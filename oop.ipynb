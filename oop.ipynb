{
 "cells": [
  {
   "cell_type": "code",
   "execution_count": 17,
   "metadata": {},
   "outputs": [],
   "source": [
    "# Ejemplo Herencia Múltiple - Versión 1\n",
    "class ClaseBase:\n",
    "    num_llamados_base = 0\n",
    "    def metodo_ejemplo(self):\n",
    "        print(\"Llamando metodo_ejemplo en clase Base\")\n",
    "        self.num_llamados_base += 1\n",
    "\n",
    "class SubclaseIzquierda(ClaseBase):\n",
    "    num_llamados_izquierda = 0\n",
    "    def metodo_ejemplo(self):\n",
    "        ClaseBase.metodo_ejemplo(self)\n",
    "        print(\"Llamando metodo_ejemplo en SubclaseIzquierda desde SubclaseFinal\")\n",
    "        self.num_llamados_izquierda += 1\n",
    "\n",
    "class SubclaseDerecha(ClaseBase):\n",
    "    num_llamados_derecha = 0\n",
    "    def metodo_ejemplo(self):\n",
    "        ClaseBase.metodo_ejemplo(self)\n",
    "        print(\"Llamando metodo_ejemplo en SubclaseDerecha desde SubclaseFinal\")\n",
    "        self.num_llamados_derecha += 1\n",
    "\n",
    "class SubclaseFinal(SubclaseIzquierda, SubclaseDerecha):\n",
    "    num_llamados_final = 0\n",
    "    def metodo_ejemplo(self):\n",
    "        SubclaseIzquierda.metodo_ejemplo(self)\n",
    "        SubclaseDerecha.metodo_ejemplo(self)\n",
    "        print(\"Llamando metodo_ejemplo desde SubclaseFinal\")\n",
    "        self.num_llamados_final += 1  "
   ]
  },
  {
   "cell_type": "code",
   "execution_count": 18,
   "metadata": {},
   "outputs": [
    {
     "name": "stdout",
     "output_type": "stream",
     "text": [
      "Llamando metodo_ejemplo en clase Base\n",
      "Llamando metodo_ejemplo en SubclaseIzquierda desde SubclaseFinal\n",
      "Llamando metodo_ejemplo en clase Base\n",
      "Llamando metodo_ejemplo en SubclaseDerecha desde SubclaseFinal\n",
      "Llamando metodo_ejemplo desde SubclaseFinal\n"
     ]
    }
   ],
   "source": [
    "s = SubclaseFinal()\n",
    "s.metodo_ejemplo()"
   ]
  },
  {
   "cell_type": "code",
   "execution_count": 19,
   "metadata": {},
   "outputs": [
    {
     "name": "stdout",
     "output_type": "stream",
     "text": [
      "1 1 1 2\n"
     ]
    }
   ],
   "source": [
    "print(s.num_llamados_final,s.num_llamados_izquierda,s.num_llamados_derecha,s.num_llamados_base)"
   ]
  },
  {
   "cell_type": "code",
   "execution_count": 60,
   "metadata": {},
   "outputs": [
    {
     "name": "stdout",
     "output_type": "stream",
     "text": [
      "Llamando metodo_ejemplo en Base Class\n",
      "Llamando metodo_ejemplo en Right SubclaseFinal\n",
      "Llamando metodo_ejemplo en Left SubclaseFinal\n",
      "Llamando metodo_ejemplo en SubclaseFinal\n"
     ]
    }
   ],
   "source": [
    "class ClaseBase():\n",
    "    num_llamados_base = 0\n",
    "    def metodo_ejemplo(self):\n",
    "        print(\"Llamando metodo_ejemplo en Base Class\")\n",
    "        self.num_llamados_base += 1\n",
    "\n",
    "class SubclaseIzquierda(ClaseBase):\n",
    "    num_llamados_izquierda = 0\n",
    "    def metodo_ejemplo(self):\n",
    "        super().metodo_ejemplo()\n",
    "        print(\"Llamando metodo_ejemplo en Left SubclaseFinal\")\n",
    "        self.num_llamados_izquierda += 1\n",
    "\n",
    "class SubclaseDerecha(ClaseBase):\n",
    "    num_llamados_derecha = 0\n",
    "    def metodo_ejemplo(self):\n",
    "        super().metodo_ejemplo()\n",
    "        print(\"Llamando metodo_ejemplo en Right SubclaseFinal\")\n",
    "        self.num_llamados_derecha += 1\n",
    "        \n",
    "class SubclaseFinal(SubclaseIzquierda, SubclaseDerecha):\n",
    "    num_llamados_final = 0\n",
    "    def metodo_ejemplo(self):\n",
    "        super().metodo_ejemplo()\n",
    "        print(\"Llamando metodo_ejemplo en SubclaseFinal\")\n",
    "        self.num_llamados_final += 1  \n",
    "        \n",
    "s = SubclaseFinal()\n",
    "s.metodo_ejemplo()"
   ]
  },
  {
   "cell_type": "code",
   "execution_count": 21,
   "metadata": {},
   "outputs": [],
   "source": [
    "import os\n",
    "from abc import  ABCMeta, abstractmethod"
   ]
  },
  {
   "cell_type": "code",
   "execution_count": 22,
   "metadata": {},
   "outputs": [],
   "source": [
    "class Base(metaclass = ABCMeta):    \n",
    "    @abstractmethod\n",
    "    def __str__(self):\n",
    "        pass    \n",
    "    @abstractmethod\n",
    "    def Captura(self):\n",
    "        pass"
   ]
  },
  {
   "cell_type": "code",
   "execution_count": 61,
   "metadata": {},
   "outputs": [],
   "source": [
    "class Libro(Base):\n",
    "    def __init__(self,nombre = \"\",anio = 0):\n",
    "        self.__nombre = nombre\n",
    "        self.__anio = anio  \n",
    "    @property\n",
    "    def nombre(self):\n",
    "        return self.__nombre\n",
    "    @property\n",
    "    def anio(self):\n",
    "        return self.__anio \n",
    "    @nombre.setter\n",
    "    def nombre(self, nuevo_nombre):\n",
    "        self.__nombre = nuevo_nombre     \n",
    "    @anio.setter\n",
    "    def anio(self, nuevo_anio):\n",
    "        self.__anio = nuevo_anio \n",
    "\n",
    "    \n",
    "    # Los siguientes métodos usan los set y get NO los atributos       \n",
    "    def __str__(self):\n",
    "        return \"Nombre del Libro: %s\\nAño: %i\" % (self.nombre, self.anio)\n",
    "    def Captura(self):\n",
    "        self.nombre = input(\"Nombre del Libro:\")\n",
    "        self.anio = int(input(\"Año del Libro:\"))"
   ]
  },
  {
   "cell_type": "code",
   "execution_count": 53,
   "metadata": {},
   "outputs": [],
   "source": [
    "class Persona(Base):\n",
    "    def __init__(self,nombre = \"\", edad = 0):\n",
    "        self.__nombre = nombre\n",
    "        self.__edad = edad\n",
    "    @property\n",
    "    def nombre(self):\n",
    "        return self.__nombre\n",
    "    @property\n",
    "    def edad(self):\n",
    "        return self.__edad  \n",
    "    @nombre.setter\n",
    "    def nombre(self, nuevo_nombre):\n",
    "        self.__nombre = nuevo_nombre     \n",
    "    @edad.setter\n",
    "    def edad(self, nueva_edad):\n",
    "        self.__edad = nueva_edad  \n",
    "    # Los siguientes métodos usan los set y get NO los atributos    \n",
    "    def __str__(self):\n",
    "        return \"Persona:%s\\nEdad:%i\" % (self.nombre,self.edad)\n",
    "    def Captura(self):\n",
    "        self.nombre = input(\"Digite el nombre: \")\n",
    "        self.edad = int(input(\"Digite la edad:\"))"
   ]
  },
  {
   "cell_type": "code",
   "execution_count": 54,
   "metadata": {},
   "outputs": [],
   "source": [
    "class Asistente(Persona):\n",
    "  def __init__(self,nombre=\"\",edad=0,prom=0,cur=\"\",hA=0,carr=\"\"):\n",
    "      Persona.__init__(self,nombre,edad)\n",
    "      self.__promPonderado = prom\n",
    "      self.__curso = cur\n",
    "      self.__horasAs = hA\n",
    "      self.__carrera = carr;\n",
    "  @property\n",
    "  def promPonderado(self):\n",
    "      return self.__promPonderado\n",
    "  @property\n",
    "  def curso(self):\n",
    "      return self.__curso \n",
    "  @property\n",
    "  def horasAs(self):\n",
    "      return self.__horasAs\n",
    "  @property\n",
    "  def carrera(self):\n",
    "      return self.__carrera  \n",
    "  @promPonderado.setter\n",
    "  def promPonderado(self, nuevo_promPonderado):\n",
    "      self.__promPonderado = nuevo_promPonderado    \n",
    "  @curso.setter\n",
    "  def curso(self, nuevo_curso):\n",
    "      self.__curso = nuevo_curso     \n",
    "  @horasAs.setter\n",
    "  def horasAs(self, nueva_horasAs):\n",
    "      self.__horasAs = nueva_horasAs    \n",
    "  @carrera.setter\n",
    "  def carrera(self, nueva_carrera):\n",
    "      self.__carrera = nueva_carrera  \n",
    "  # Los siguientes métodos usan los set y get NO los atributos        \n",
    "  def __str__(self):\n",
    "      s =\"Asistente:%s\\nEdad:%i\\nCarrera:%s\\nHoras Asignadas:%i\\nCurso:%s\\nPromedio Ponderado:%s\"\n",
    "      return s % (self.nombre,self.edad, self.carrera, self.horasAs,self.curso,self.promPonderado)\n",
    "  def Captura(self):\n",
    "      Persona.Captura(self)\n",
    "      self.carrera = input(\"Digite la carrera: \")\n",
    "      self.horasAs = int(input(\"Digite las horas asistente:\"))\n",
    "      self.curso = input(\"Digite el curso asignado:\")\n",
    "      self.promPonderado = int(input(\"Digite el promedio ponderado:\"))"
   ]
  },
  {
   "cell_type": "code",
   "execution_count": 62,
   "metadata": {},
   "outputs": [],
   "source": [
    "class Estudiante(Persona):\n",
    "    def __init__(self,nombre=\"\",edad=0,examen1=0,examen2=0):\n",
    "        Persona.__init__(self,nombre,edad)\n",
    "        self.__examen1 = examen1\n",
    "        self.__examen2 = examen2\n",
    "        self.__numeroLibros = 0\n",
    "        self.__libros = [];\n",
    "    @property\n",
    "    def examen1(self):\n",
    "        return self.__examen1\n",
    "    @property\n",
    "    def examen2(self):\n",
    "        return self.__examen2 \n",
    "    @property\n",
    "    def numeroLibros(self):\n",
    "        return self.__numeroLibros\n",
    "    @property\n",
    "    def libros(self):\n",
    "        return self.__libros  \n",
    "    @examen1.setter\n",
    "    def examen1(self, nuevo_examen1):\n",
    "        self.__examen1 = nuevo_examen1    \n",
    "    @examen2.setter\n",
    "    def examen2(self, nuevo_examen2):\n",
    "        self.__examen2 = nuevo_examen2     \n",
    "    @numeroLibros.setter\n",
    "    def numeroLibros(self, nuevo_numeroLibros):\n",
    "        self.__numeroLibros = nuevo_numeroLibros    \n",
    "    @libros.setter\n",
    "    def libros(self, nuevos_libros):\n",
    "        self.__libros = nuevos_libros \n",
    "    # Los siguientes métodos usan los set y get NO los atributos     \n",
    "    def calculaPromedio(self):\n",
    "        return (self.examen1+self.examen2)/2    \n",
    "    def __str__(self):\n",
    "        s =\"Estudiante:%s\\nPromedio:%i\\n=====Libros=====\"\n",
    "        for i in range(self.numeroLibros):\n",
    "            s += \"\\n\"+ str(self.libros[i])\n",
    "        s += \"\\n================\"\n",
    "        return s % (self.nombre,self.calculaPromedio())\n",
    "    def Captura(self):\n",
    "        Persona.Captura(self)\n",
    "        self.examen1 = int(input(\"Nota Examen 1:\"))\n",
    "        self.examen2 = int(input(\"Nota Examen 2:\"))\n",
    "        self.numeroLibros = int(input(\"Numero de libros del estudiante:\"))\n",
    "        for i in range(self.numeroLibros):\n",
    "            lib = Libro()\n",
    "            lib.Captura()\n",
    "            self.libros.append(lib)"
   ]
  },
  {
   "cell_type": "code",
   "execution_count": 63,
   "metadata": {},
   "outputs": [],
   "source": [
    "class EstCompu(Estudiante):\n",
    "    def __init__(self,nombre=\"\",edad=0,examen1=0,examen2=0,examen3=0):\n",
    "        Estudiante.__init__(self,nombre,edad,examen1,examen2)\n",
    "        self.__examen3 = examen3\n",
    "    @property\n",
    "    def examen3(self):\n",
    "        return self.__examen3        \n",
    "    @examen3.setter\n",
    "    def examen3(self, nuevo_examen3):\n",
    "        self.__examen3 = nuevo_examen3  \n",
    "    # Los siguientes métodos usan los set y get NO los atributos         \n",
    "    def calculaPromedio(self):\n",
    "        return (self.examen1+self.examen2+self.examen3)/3\n",
    "    def __str__(self):\n",
    "        s =\"Estudiante:%s\\nPromedio:%i\\n=====Libros=====\"\n",
    "        for i in range(self.numeroLibros):\n",
    "            s = s +\"\\n\"+ str(self.libros[i])\n",
    "        s = s + \"\\n================\"\n",
    "        return s % (self.nombre,self.calculaPromedio())\n",
    "    def Captura(self):\n",
    "        Persona.Captura(self)\n",
    "        self.examen1 = int(input(\"Nota Examen 1:\"))\n",
    "        self.examen2 = int(input(\"Nota Examen 2:\"))\n",
    "        self.examen3 = int(input(\"Nota Examen 3:\"))\n",
    "        self.numeroLibros = int(input(\"Numero de libros del estudiante:\"))\n",
    "        for i in range(self.numeroLibros):\n",
    "            lib = Libro()\n",
    "            lib.Captura()\n",
    "            self.libros.append(lib)"
   ]
  },
  {
   "cell_type": "code",
   "execution_count": 64,
   "metadata": {},
   "outputs": [],
   "source": [
    "class Lectura:\n",
    "    def LeeDatosPersona(self):\n",
    "        persona = Persona()\n",
    "        os.system('clear') #os.system('cls') #en windows\n",
    "        persona.Captura()\n",
    "        return persona\n",
    "    def LeeDatosEstudiante(self):\n",
    "        estudiante = Estudiante()\n",
    "        os.system('clear') #os.system('cls') #en windows\n",
    "        estudiante.Captura()\n",
    "        return estudiante\n",
    "    def LeeDatosEstCompu(self):\n",
    "        estudianteC = EstCompu()\n",
    "        os.system('clear') #os.system('cls') #en windows\n",
    "        estudianteC.Captura()\n",
    "        return estudianteC\n",
    "    def LeeDatosAsistente(self):\n",
    "        asistente = Asistente()\n",
    "        os.system('clear') #os.system('cls') #en windows\n",
    "        asistente.Captura()\n",
    "        return asistente"
   ]
  },
  {
   "cell_type": "code",
   "execution_count": 66,
   "metadata": {},
   "outputs": [],
   "source": [
    "class App:\n",
    "    def __init__(self):\n",
    "        self.__lista = list()\n",
    "        self.__lec = Lectura()\n",
    "    def __menu(self):\n",
    "        ##print(\"\\n\"*50)\n",
    "        #os.system('clear') #os.system('cls') #en windows\n",
    "        print(\" ==================================================== \")\n",
    "        print(\" [1] Insertar Persona \")\n",
    "        print(\" [2] Insertar Asistente\")\n",
    "        print(\" [3] Insertar Estudiante\")\n",
    "        print(\" [4] Insertar Estudiante de Computacion\")\n",
    "        print(\" [5] Ver la Lista Polimorfica\" )\n",
    "        print(\" [6] Borrar la Lista Polimorfica\")\n",
    "        print(\" [7] Salir\")\n",
    "        print(\" ==================================================== \")\n",
    "        return input(\"> \")\n",
    "    def __mostrarLista(self):\n",
    "        ##print(\"\\n\"*50)\n",
    "        #os.system('Clear') #os.system('cls') #en windows\n",
    "        for i in range(len(self.__lista)):\n",
    "            print(self.__lista[i])\n",
    "            print(15 * \"*\" + \"\\n\")\n",
    "    def principal(self):\n",
    "        respuesta = \"\"\n",
    "        while respuesta != \"7\":\n",
    "            respuesta = self.__menu()\n",
    "            if respuesta == \"1\":\n",
    "                self.__lista.append(self.__lec.LeeDatosPersona())\n",
    "            elif respuesta == \"2\":\n",
    "                self.__lista.append(self.__lec.LeeDatosAsistente())\n",
    "            elif respuesta == \"3\":\n",
    "                self.__lista.append(self.__lec.LeeDatosEstudiante())\n",
    "            if respuesta == \"4\":\n",
    "                self.__lista.append(self.__lec.LeeDatosEstCompu())\n",
    "            elif respuesta == \"5\":\n",
    "                self.__mostrarLista()\n",
    "                input(\"Digite cualquier tecla para continuar\")\n",
    "            elif respuesta == \"6\":\n",
    "                self.__lista.clear()"
   ]
  },
  {
   "cell_type": "code",
   "execution_count": 68,
   "metadata": {},
   "outputs": [],
   "source": [
    "def RUN() :\n",
    "  prueba = App()\n",
    "  prueba.principal()"
   ]
  },
  {
   "cell_type": "code",
   "execution_count": 69,
   "metadata": {},
   "outputs": [],
   "source": [
    "import sys\n",
    "from contextlib import contextmanager"
   ]
  },
  {
   "cell_type": "code",
   "execution_count": 70,
   "metadata": {},
   "outputs": [],
   "source": [
    "@contextmanager\n",
    "def custom_redirection(fileobj_in,fileobj_out):\n",
    "    old_in = sys.stdin\n",
    "    old_out = sys.stdout\n",
    "    sys.stdin = fileobj_in\n",
    "    sys.stdout = fileobj_out\n",
    "    try:\n",
    "        yield fileobj_in\n",
    "    finally:\n",
    "        sys.stdin =  old_in\n",
    "        sys.stdout = old_out"
   ]
  },
  {
   "cell_type": "code",
   "execution_count": 72,
   "metadata": {},
   "outputs": [],
   "source": [
    "if __name__ == '__main__':\n",
    "  with open('./Datos/python_output.txt', 'w') as outputs:\n",
    "    with open('./Datos/Entrada.txt', 'r') as inputs :\n",
    "      with custom_redirection(inputs,outputs):\n",
    "        print('Programa con I/O redirigido incia...\\n++++++++++++++++++++++++++++++++++++++++\\n')\n",
    "        RUN()\n",
    "        print('Programa con I/O redirigido termina \\n++++++++++++++++++++++++++++++++++++++++\\n')\n",
    "  print('Este mensaje sale por stdout')"
   ]
  }
 ],
 "metadata": {
  "kernelspec": {
   "display_name": "Python 3.10.4 64-bit",
   "language": "python",
   "name": "python3"
  },
  "language_info": {
   "codemirror_mode": {
    "name": "ipython",
    "version": 3
   },
   "file_extension": ".py",
   "mimetype": "text/x-python",
   "name": "python",
   "nbconvert_exporter": "python",
   "pygments_lexer": "ipython3",
   "version": "3.10.4"
  },
  "orig_nbformat": 4,
  "vscode": {
   "interpreter": {
    "hash": "369f2c481f4da34e4445cda3fffd2e751bd1c4d706f27375911949ba6bb62e1c"
   }
  }
 },
 "nbformat": 4,
 "nbformat_minor": 2
}
